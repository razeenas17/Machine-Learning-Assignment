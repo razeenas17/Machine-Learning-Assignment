{
  "nbformat": 4,
  "nbformat_minor": 0,
  "metadata": {
    "colab": {
      "provenance": []
    },
    "kernelspec": {
      "name": "python3",
      "display_name": "Python 3"
    },
    "language_info": {
      "name": "python"
    }
  },
  "cells": [
    {
      "cell_type": "code",
      "execution_count": 1,
      "metadata": {
        "colab": {
          "base_uri": "https://localhost:8080/"
        },
        "id": "Vt5EtNiiFQ8v",
        "outputId": "4a950eaa-20b7-4a82-b538-d4789c01afd4"
      },
      "outputs": [
        {
          "output_type": "stream",
          "name": "stdout",
          "text": [
            "    symboling normalized-losses  make fuel-type aspiration num-of-doors  \\\n",
            "3           2               164  audi       gas        std         four   \n",
            "4           2               164  audi       gas        std         four   \n",
            "6           1               158  audi       gas        std         four   \n",
            "8           1               158  audi       gas      turbo         four   \n",
            "10          2               192   bmw       gas        std          two   \n",
            "\n",
            "   body-style drive-wheels engine-location  wheel-base  ...  engine-size  \\\n",
            "3       sedan          fwd           front        99.8  ...          109   \n",
            "4       sedan          4wd           front        99.4  ...          136   \n",
            "6       sedan          fwd           front       105.8  ...          136   \n",
            "8       sedan          fwd           front       105.8  ...          131   \n",
            "10      sedan          rwd           front       101.2  ...          108   \n",
            "\n",
            "    fuel-system  bore  stroke compression-ratio horsepower  peak-rpm city-mpg  \\\n",
            "3          mpfi  3.19     3.4              10.0        102      5500       24   \n",
            "4          mpfi  3.19     3.4               8.0        115      5500       18   \n",
            "6          mpfi  3.19     3.4               8.5        110      5500       19   \n",
            "8          mpfi  3.13     3.4               8.3        140      5500       17   \n",
            "10         mpfi   3.5     2.8               8.8        101      5800       23   \n",
            "\n",
            "   highway-mpg  price  \n",
            "3           30  13950  \n",
            "4           22  17450  \n",
            "6           25  17710  \n",
            "8           20  23875  \n",
            "10          29  16430  \n",
            "\n",
            "[5 rows x 26 columns]\n",
            "                            OLS Regression Results                            \n",
            "==============================================================================\n",
            "Dep. Variable:                  price   R-squared:                       0.812\n",
            "Model:                            OLS   Adj. R-squared:                  0.807\n",
            "Method:                 Least Squares   F-statistic:                     166.4\n",
            "Date:                Wed, 28 Aug 2024   Prob (F-statistic):           7.97e-55\n",
            "Time:                        17:43:20   Log-Likelihood:                -1472.2\n",
            "No. Observations:                 159   AIC:                             2954.\n",
            "Df Residuals:                     154   BIC:                             2970.\n",
            "Df Model:                           4                                         \n",
            "Covariance Type:            nonrobust                                         \n",
            "===============================================================================\n",
            "                  coef    std err          t      P>|t|      [0.025      0.975]\n",
            "-------------------------------------------------------------------------------\n",
            "const       -1.547e+04   3681.690     -4.202      0.000   -2.27e+04   -8195.912\n",
            "horsepower     20.3598     14.436      1.410      0.160      -8.159      48.879\n",
            "curb-weight     8.2541      1.062      7.774      0.000       6.157      10.352\n",
            "engine-size    33.0185     16.359      2.018      0.045       0.702      65.335\n",
            "highway-mpg    22.2052     63.149      0.352      0.726    -102.545     146.956\n",
            "==============================================================================\n",
            "Omnibus:                       12.032   Durbin-Watson:                   0.696\n",
            "Prob(Omnibus):                  0.002   Jarque-Bera (JB):               18.325\n",
            "Skew:                           0.410   Prob(JB):                     0.000105\n",
            "Kurtosis:                       4.447   Cond. No.                     4.52e+04\n",
            "==============================================================================\n",
            "\n",
            "Notes:\n",
            "[1] Standard Errors assume that the covariance matrix of the errors is correctly specified.\n",
            "[2] The condition number is large, 4.52e+04. This might indicate that there are\n",
            "strong multicollinearity or other numerical problems.\n"
          ]
        }
      ],
      "source": [
        "import statsmodels.api as sm\n",
        "import pandas as pd\n",
        "\n",
        "# Load the Automobile dataset (assumes you have downloaded 'Automobile_data.csv' from Kaggle)\n",
        "auto_data = pd.read_csv('/content/Automobile_data.csv')\n",
        "\n",
        "# Handle missing values (e.g., replace '?' with NaN and drop rows with NaN values)\n",
        "auto_data.replace('?', pd.NA, inplace=True)\n",
        "auto_data.dropna(inplace=True)\n",
        "\n",
        "# Convert relevant columns to numeric types\n",
        "auto_data['horsepower'] = pd.to_numeric(auto_data['horsepower'])\n",
        "auto_data['price'] = pd.to_numeric(auto_data['price'])\n",
        "\n",
        "# Display the first few rows to understand the structure of the dataset\n",
        "print(auto_data.head())\n",
        "\n",
        "# Define the independent variables (you can include more or fewer variables based on your analysis)\n",
        "X = auto_data[['horsepower', 'curb-weight', 'engine-size', 'highway-mpg']]\n",
        "\n",
        "# Define the dependent variable\n",
        "Y = auto_data['price']\n",
        "\n",
        "# Add a constant term to the independent variables (intercept)\n",
        "X = sm.add_constant(X)\n",
        "\n",
        "# Fit the multiple linear regression model\n",
        "model = sm.OLS(Y, X).fit()\n",
        "\n",
        "# Print the summary of the regression model\n",
        "print(model.summary())\n"
      ]
    }
  ]
}